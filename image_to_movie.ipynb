{
 "cells": [
  {
   "cell_type": "code",
   "execution_count": 1,
   "metadata": {},
   "outputs": [
    {
     "name": "stdout",
     "output_type": "stream",
     "text": [
      "Found 30 image files.\n",
      "GIF saved at output_animation.gif\n",
      "Movie saved at output_movie.mp4\n"
     ]
    }
   ],
   "source": [
    "import os\n",
    "import imageio\n",
    "import cv2\n",
    "\n",
    "# Set the directory where images are stored and output paths\n",
    "image_dir = \"output_images_latentspace_celeba\"\n",
    "output_gif = \"output_animation.gif\"\n",
    "output_movie = \"output_movie.mp4\"\n",
    "\n",
    "# Get a sorted list of image file paths, sorted numerically by image number\n",
    "image_files = sorted([os.path.join(image_dir, f) for f in os.listdir(image_dir) if f.endswith(\".png\")], \n",
    "                     key=lambda x: int(''.join(filter(str.isdigit, x))))\n",
    "\n",
    "# Debug: Print the list of image files\n",
    "print(f\"Found {len(image_files)} image files.\")\n",
    "if len(image_files) == 0:\n",
    "    print(\"No PNG files found in the specified directory.\")\n",
    "\n",
    "# Ensure all images have the same size\n",
    "def resize_images_to_same_size(image_files):\n",
    "    images = []\n",
    "    first_image = cv2.imread(image_files[0])\n",
    "    height, width, layers = first_image.shape  # Get dimensions of the first image\n",
    "    \n",
    "    for img in image_files:\n",
    "        image = cv2.imread(img)\n",
    "        resized_image = cv2.resize(image, (width, height))  # Resize all images to match the first one\n",
    "        images.append(resized_image)\n",
    "    \n",
    "    return images\n",
    "\n",
    "# Load and resize images to ensure consistency\n",
    "images = resize_images_to_same_size(image_files)\n",
    "\n",
    "# Create a GIF\n",
    "def create_gif(images, output_gif, duration=0.1):\n",
    "    \"\"\"\n",
    "    Creates a GIF from a list of image files.\n",
    "    \"\"\"\n",
    "    imageio.mimsave(output_gif, images, duration=duration)\n",
    "    print(f\"GIF saved at {output_gif}\")\n",
    "\n",
    "# Create a movie\n",
    "def create_movie(images, output_movie, fps=10):\n",
    "    \"\"\"\n",
    "    Creates a movie from a list of image files.\n",
    "    \"\"\"\n",
    "    height, width, layers = images[0].shape  # Get dimensions of the first image\n",
    "    \n",
    "    # Define the video codec and create VideoWriter object\n",
    "    fourcc = cv2.VideoWriter_fourcc(*'mp4v')  # Codec for mp4 files\n",
    "    video = cv2.VideoWriter(output_movie, fourcc, fps, (width, height))\n",
    "\n",
    "    for frame in images:\n",
    "        video.write(frame)\n",
    "\n",
    "    video.release()\n",
    "    print(f\"Movie saved at {output_movie}\")\n",
    "\n",
    "# Call the functions\n",
    "create_gif(images, output_gif, duration=0.1)  # Adjust duration as needed\n",
    "create_movie(images, output_movie, fps=10)   # Adjust fps as needed\n"
   ]
  }
 ],
 "metadata": {
  "kernelspec": {
   "display_name": "DL-Idempotant",
   "language": "python",
   "name": "python3"
  },
  "language_info": {
   "codemirror_mode": {
    "name": "ipython",
    "version": 3
   },
   "file_extension": ".py",
   "mimetype": "text/x-python",
   "name": "python",
   "nbconvert_exporter": "python",
   "pygments_lexer": "ipython3",
   "version": "3.12.7"
  }
 },
 "nbformat": 4,
 "nbformat_minor": 2
}
