{
 "cells": [
  {
   "cell_type": "code",
   "execution_count": null,
   "metadata": {},
   "outputs": [],
   "source": [
    "import torch\n",
    "import os\n",
    "from torchvision.utils import save_image\n",
    "from torchvision.transforms.functional import to_pil_image\n",
    "from tqdm import tqdm\n",
    "\n",
    "from idem_net_celeba import IdemNetCeleba\n",
    "from idem_net_mnist import IdemNetMnist"
   ]
  },
  {
   "cell_type": "code",
   "execution_count": null,
   "metadata": {},
   "outputs": [],
   "source": [
    "run_id = \"celeba20241130-101804\"\n",
    "epoch_num = \"_final.pth\"\n",
    "\n",
    "device = torch.device(\"cpu\")\n",
    "if torch.cuda.is_available():\n",
    "    device = torch.device('cuda')\n",
    "elif torch.backends.mps.is_available():\n",
    "    device = torch.device('mps')\n",
    "else:\n",
    "    device = torch.device('cpu')\n",
    "\n",
    "print(device)\n",
    "checkpoint_path = f\"checkpoints/{run_id}/{epoch_num}\"\n",
    "\n",
    "if \"celeba\" in run_id:\n",
    "  model = IdemNetCeleba(3) # IdemNetMnist()\n",
    "else:\n",
    "  model = IdemNetMnist()\n",
    "\n",
    "state_dict = torch.load(checkpoint_path, weights_only=True, map_location=device)\n",
    "model.load_state_dict(state_dict)"
   ]
  },
  {
   "cell_type": "code",
   "execution_count": null,
   "metadata": {},
   "outputs": [],
   "source": [
    "def save_model_outputs_to_images(model, output_dir, batch_size, num_generations, device):\n",
    "    \"\"\"\n",
    "    Generate outputs batchwise from a model and save them as images.\n",
    "\n",
    "    Parameters:\n",
    "        model: The PyTorch model to generate outputs.\n",
    "        dataloader: DataLoader to provide input data in batches.\n",
    "        output_dir: Directory to save the images.\n",
    "        device: Device to run the model on (e.g., 'cuda' or 'cpu').\n",
    "    \"\"\"\n",
    "    # Ensure the output directory exists\n",
    "    os.makedirs(output_dir, exist_ok=True)\n",
    "\n",
    "    counter = 0  # Counter for filenames\n",
    "\n",
    "    progress = tqdm(range(int(num_generations / batch_size)))\n",
    "    with torch.no_grad():  # Disable gradient computation\n",
    "        for _ in progress:\n",
    "            outputs = model(torch.randn([batch_size, 3, 64, 64], device=device))  # Generate outputs\n",
    "            \n",
    "            # Assuming outputs are images (e.g., RGB normalized tensors)\n",
    "            for i, output in enumerate(outputs):\n",
    "                # Optionally normalize or adjust output here\n",
    "                output_image = to_pil_image(output)  # Convert to PIL image\n",
    "                \n",
    "                # Save image to file\n",
    "                filename = os.path.join(output_dir, f\"output_{counter:05d}.png\")\n",
    "                output_image.save(filename)\n",
    "                \n",
    "                counter += 1  # Increment counter for unique filenames\n",
    "\n",
    "    print(f\"Images saved to {output_dir}\")\n",
    "\n",
    "# Example Usage\n",
    "# Assuming you have a DataLoader `dataloader` and a PyTorch model `model`\n",
    "\n",
    "output_dir = \"./data/generated_images_perceptual\"\n",
    "\n",
    "# Save images from model\n",
    "save_model_outputs_to_images(model.to(device), output_dir, batch_size=256, num_generations=50000, device=device)"
   ]
  }
 ],
 "metadata": {
  "kernelspec": {
   "display_name": "dl-idempotent",
   "language": "python",
   "name": "python3"
  },
  "language_info": {
   "codemirror_mode": {
    "name": "ipython",
    "version": 3
   },
   "file_extension": ".py",
   "mimetype": "text/x-python",
   "name": "python",
   "nbconvert_exporter": "python",
   "pygments_lexer": "ipython3",
   "version": "3.12.7"
  }
 },
 "nbformat": 4,
 "nbformat_minor": 2
}
