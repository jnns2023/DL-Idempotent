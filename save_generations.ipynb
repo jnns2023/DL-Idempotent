{
 "cells": [
  {
   "cell_type": "code",
   "execution_count": 1,
   "metadata": {},
   "outputs": [],
   "source": [
    "import torch\n",
    "import os\n",
    "from torchvision.utils import save_image\n",
    "from torchvision.transforms.functional import to_pil_image\n",
    "from tqdm import tqdm\n",
    "\n",
    "from idem_net_celeba import IdemNetCeleba\n",
    "from idem_net_mnist import IdemNetMnist\n",
    "from gen_utils import generate_frequency_noise\n",
    "from data_loader import load_CelebA"
   ]
  },
  {
   "cell_type": "code",
   "execution_count": 2,
   "metadata": {},
   "outputs": [
    {
     "name": "stdout",
     "output_type": "stream",
     "text": [
      "cpu\n"
     ]
    },
    {
     "data": {
      "text/plain": [
       "<All keys matched successfully>"
      ]
     },
     "execution_count": 2,
     "metadata": {},
     "output_type": "execute_result"
    }
   ],
   "source": [
    "run_id = \"celeba20241130-101804\"\n",
    "epoch_num = \"_final.pth\"\n",
    "\n",
    "device = torch.device(\"cpu\")\n",
    "if torch.cuda.is_available():\n",
    "    device = torch.device('cuda')\n",
    "elif torch.backends.mps.is_available():\n",
    "    device = torch.device('mps')\n",
    "else:\n",
    "    device = torch.device('cpu')\n",
    "\n",
    "print(device)\n",
    "checkpoint_path = f\"checkpoints/{run_id}/{epoch_num}\"\n",
    "\n",
    "if \"celeba\" in run_id:\n",
    "  model = IdemNetCeleba(3) # IdemNetMnist()\n",
    "else:\n",
    "  model = IdemNetMnist()\n",
    "\n",
    "state_dict = torch.load(checkpoint_path, weights_only=True, map_location=device)\n",
    "model.load_state_dict(state_dict)"
   ]
  },
  {
   "cell_type": "code",
   "execution_count": 4,
   "metadata": {},
   "outputs": [
    {
     "name": "stdout",
     "output_type": "stream",
     "text": [
      "Files already downloaded and verified\n",
      "Files already downloaded and verified\n"
     ]
    }
   ],
   "source": [
    "# Example Usage\n",
    "# Assuming you have a DataLoader `dataloader` and a PyTorch model `model`\n",
    "\n",
    "output_dir = \"./data/generated_images_perceptual\"\n",
    "\n",
    "batch_size = 256\n",
    "\n",
    "# get the data loader\n",
    "data_loader, _ = load_CelebA(batch_size=batch_size)"
   ]
  },
  {
   "cell_type": "code",
   "execution_count": 6,
   "metadata": {},
   "outputs": [
    {
     "name": "stderr",
     "output_type": "stream",
     "text": [
      "100%|██████████| 1/1 [00:05<00:00,  5.25s/it]"
     ]
    },
    {
     "name": "stdout",
     "output_type": "stream",
     "text": [
      "Images saved to ./data/generated_images_perceptual\n"
     ]
    },
    {
     "name": "stderr",
     "output_type": "stream",
     "text": [
      "\n"
     ]
    }
   ],
   "source": [
    "def save_model_outputs_to_images(model, output_dir, batch_size, fft_noise, data_loader, num_generations, device):\n",
    "    \"\"\"\n",
    "    Generate outputs batchwise from a model and save them as images.\n",
    "\n",
    "    Parameters:\n",
    "        model: The PyTorch model to generate outputs.\n",
    "        output_dir: Directory to save the images.\n",
    "        batch_size: Number of images to generate per batch.\n",
    "        fft_noise: Whether to use FFT noise for input.\n",
    "        data_loader: DataLoader to provide input data in batches.\n",
    "        num_generations: Total number of images to generate.\n",
    "        device: Device to run the model on (e.g., 'cuda' or 'cpu').\n",
    "    \"\"\"\n",
    "    if fft_noise:\n",
    "        output_dir = \"./data/generated_images_fft\"\n",
    "\n",
    "    if not os.path.exists(output_dir):\n",
    "        os.makedirs(output_dir)\n",
    "\n",
    "    counter = 0  # Counter for filenames\n",
    "    progress = tqdm(range(int(num_generations / batch_size)))\n",
    "    data_iter = iter(data_loader)  # Create an iterator for the DataLoader\n",
    "\n",
    "    with torch.no_grad():  # Disable gradient computation\n",
    "        for _ in progress:\n",
    "            if not fft_noise:\n",
    "                noise = torch.randn([batch_size, 3, 64, 64], device=device)\n",
    "            else:\n",
    "                try:\n",
    "                    # Get the next batch of real images\n",
    "                    real_imgs, _ = next(data_iter)\n",
    "                except StopIteration:\n",
    "                    # Reinitialize the iterator if it runs out of data\n",
    "                    data_iter = iter(data_loader)\n",
    "                    real_imgs, _ = next(data_iter)\n",
    "\n",
    "                real_imgs = real_imgs.to(device)  # Move real images to the target device\n",
    "                noise = generate_frequency_noise(real_imgs[: batch_size])\n",
    "\n",
    "            outputs = model(noise)\n",
    "\n",
    "            for i, output in enumerate(outputs):\n",
    "                output_image = to_pil_image(output)  # Convert to PIL image\n",
    "                filename = os.path.join(output_dir, f\"output_{counter:05d}.png\")\n",
    "                output_image.save(filename)\n",
    "                counter += 1  # Increment counter for unique filenames\n",
    "\n",
    "    print(f\"Images saved to {output_dir}\")\n",
    "\n",
    "\n",
    "# Save images from model\n",
    "save_model_outputs_to_images(model.to(device), output_dir, batch_size, fft_noise=False, data_loader=data_loader, num_generations=256, device=device)"
   ]
  }
 ],
 "metadata": {
  "kernelspec": {
   "display_name": "KTHenv",
   "language": "python",
   "name": "python3"
  },
  "language_info": {
   "codemirror_mode": {
    "name": "ipython",
    "version": 3
   },
   "file_extension": ".py",
   "mimetype": "text/x-python",
   "name": "python",
   "nbconvert_exporter": "python",
   "pygments_lexer": "ipython3",
   "version": "3.12.5"
  }
 },
 "nbformat": 4,
 "nbformat_minor": 2
}
