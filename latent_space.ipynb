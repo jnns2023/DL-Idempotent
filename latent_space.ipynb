{
 "cells": [
  {
   "cell_type": "code",
   "execution_count": null,
   "metadata": {},
   "outputs": [],
   "source": [
    "import torch\n",
    "import numpy as np\n",
    "from idem_net_mnist import IdemNetMnist\n",
    "from data_loader import load_MNIST\n",
    "import matplotlib.pyplot as plt"
   ]
  },
  {
   "cell_type": "code",
   "execution_count": null,
   "metadata": {},
   "outputs": [],
   "source": [
    "run_id = \"mnist20241113-115000\"\n",
    "epoch_num = \"final.pth\"\n",
    "\n",
    "device = torch.device(\"cpu\")\n",
    "if torch.cuda.is_available():\n",
    "    device = torch.device('cuda')\n",
    "elif torch.backends.mps.is_available():\n",
    "    device = torch.device('mps')\n",
    "else:\n",
    "    device = torch.device('cpu')\n",
    "\n",
    "\n",
    "checkpoint_path = f\"checkpoints/{run_id}/{epoch_num}\"\n",
    "device"
   ]
  },
  {
   "cell_type": "code",
   "execution_count": null,
   "metadata": {},
   "outputs": [],
   "source": [
    "model = IdemNetMnist()\n",
    "\n",
    "state_dict = torch.load(checkpoint_path, weights_only=True, map_location=device)\n",
    "# state_dict = state_dict[\"model_state_dict\"]"
   ]
  },
  {
   "cell_type": "code",
   "execution_count": null,
   "metadata": {},
   "outputs": [],
   "source": [
    "model.load_state_dict(state_dict)\n",
    "#model.eval()"
   ]
  },
  {
   "cell_type": "code",
   "execution_count": null,
   "metadata": {},
   "outputs": [],
   "source": [
    "def plot_generation(inputs, outputs, outputs2, num_images=5):\n",
    "    \"\"\"\n",
    "    Plots input and output image pairs side by side.\n",
    "    \n",
    "    Parameters:\n",
    "    - inputs: Batch of input images, expected shape (batch_size, height, width).\n",
    "    - outputs: Batch of output images, expected shape (num_applications, batch_size, height, width).\n",
    "    - num_images: Number of image pairs to display (default is 5).\n",
    "    \"\"\"\n",
    "    # Limit the number of images to the smaller of num_images or batch size\n",
    "    num_images = min(num_images, len(inputs), len(outputs))\n",
    "    \n",
    "    plt.figure(figsize=(8, num_images * 3))\n",
    "    for i in range(num_images):\n",
    "        # Plot input image\n",
    "        plt.subplot(num_images, 3, 2 * i + 1)\n",
    "        plt.imshow(inputs[i].squeeze().detach().numpy(), cmap='gray')\n",
    "        plt.title(\"Input\")\n",
    "        plt.axis('off')\n",
    "        \n",
    "        # Plot output image\n",
    "        plt.subplot(num_images, 3, 2 * i + 2)\n",
    "        plt.imshow(outputs[i].squeeze().detach().numpy(), cmap='gray')\n",
    "        plt.title(\"Output\")\n",
    "        plt.axis('off')\n",
    "\n",
    "        # Plot output image\n",
    "        plt.subplot(num_images, 3, 2 * i + 3)\n",
    "        plt.imshow(outputs2[i].squeeze().detach().numpy(), cmap='gray')\n",
    "        plt.title(\"Output\")\n",
    "        plt.axis('off')\n",
    "\n",
    "    plt.tight_layout()\n",
    "    plt.show()"
   ]
  },
  {
   "cell_type": "code",
   "execution_count": null,
   "metadata": {},
   "outputs": [],
   "source": [
    "# Generate random images based on noise with the same shape as the input images\n",
    "num_noise = 2\n",
    "noise = torch.randn(num_noise, 1, 28, 28)\n",
    "#noise = torch.randn_like(images)\n",
    "\n",
    "# Do interpolation between the first two images\n",
    "num_interpolations = 10\n",
    "interpolations = torch.zeros(num_interpolations, 1, 1, 28, 28)\n",
    "outputs = torch.zeros(num_interpolations, 1, 1, 28, 28)\n",
    "outputs2 = torch.zeros(num_interpolations, 1, 1, 28, 28)\n",
    "for i in range(num_interpolations):\n",
    "    alpha = i / (num_interpolations - 1)\n",
    "    interpolations[i] = alpha * noise[0] + (1 - alpha) * noise[1]\n",
    "\n",
    "\n",
    "\n"
   ]
  },
  {
   "cell_type": "code",
   "execution_count": null,
   "metadata": {},
   "outputs": [],
   "source": [
    "## function images to movie\n",
    "def images_to_movie(images, output_path):\n",
    "    \"\"\"\n",
    "    Saves a batch of images as a movie.\n",
    "    \n",
    "    Parameters:\n",
    "    - images: Batch of images, expected shape (num_images, height, width).\n",
    "    - output_path: Path to save the movie.\n",
    "    \"\"\"\n",
    "    import cv2\n",
    "    import os\n",
    "    \n",
    "    # Create a directory to store the images\n",
    "    os.makedirs(\"temp\", exist_ok=True)\n",
    "    \n",
    "    # Save the images to the directory\n",
    "    for i, image in enumerate(images):\n",
    "        image = image.squeeze().detach().numpy()\n",
    "        image = (255 * image).astype(np.uint8)\n",
    "        cv2.imwrite(f\"temp/{i:04d}.png\", image)\n",
    "    \n",
    "    # Use ffmpeg to create a movie from the images\n",
    "    os.system(f\"ffmpeg -y -r 10 -i temp/%04d.png -c:v libx264 -vf fps=25 -pix_fmt yuv420p {output_path}\")\n",
    "    \n",
    "    # Remove the temporary directory\n",
    "    os.system(\"rm -r temp\")\n",
    "    \n",
    "    print(f\"Movie saved to {output_path}\")"
   ]
  },
  {
   "cell_type": "code",
   "execution_count": null,
   "metadata": {},
   "outputs": [],
   "source": [
    "## Generate images from the model\n",
    "#print(f\"noise shape before conv1: {noise.shape}\")\n",
    "\n",
    "#output = model(noise)\n",
    "\n",
    "# output for interpolations\n",
    "for i in range(num_interpolations):\n",
    "    outputs[i] = model(interpolations[i])\n",
    "    outputs2[i] = model(outputs[i])\n",
    "    plot_generation(interpolations[i], outputs[i], outputs2[i], num_images=1)\n",
    "    \n",
    "## Save the generated images and create a movie\n",
    "output_path = \"/interpolation/input_images.pth\"\n",
    "images_to_movie(interpolations, output_path)\n",
    "\n",
    "output_path = \"/interpolation/output_images.mp4\"\n",
    "images_to_movie(outputs, output_path)\n",
    "\n",
    "output_path = \"output_images2.mp4\"\n",
    "images_to_movie(outputs2, output_path)\n",
    "\n"
   ]
  }
 ],
 "metadata": {
  "kernelspec": {
   "display_name": "DL-Idempotant",
   "language": "python",
   "name": "python3"
  },
  "language_info": {
   "codemirror_mode": {
    "name": "ipython",
    "version": 3
   },
   "file_extension": ".py",
   "mimetype": "text/x-python",
   "name": "python",
   "nbconvert_exporter": "python",
   "pygments_lexer": "ipython3",
   "version": "3.12.7"
  }
 },
 "nbformat": 4,
 "nbformat_minor": 2
}
