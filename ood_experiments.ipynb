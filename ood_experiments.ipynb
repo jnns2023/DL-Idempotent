{
 "cells": [
  {
   "cell_type": "code",
   "execution_count": null,
   "metadata": {},
   "outputs": [],
   "source": [
    "import torch\n",
    "import numpy as np\n",
    "from idem_net_mnist import IdemNetMnist\n",
    "from idem_net_celeba import IdemNetCeleba\n",
    "from data_loader import load_MNIST, load_CelebA\n",
    "from torchvision.transforms import GaussianBlur, functional as TF\n",
    "from plot_utils import *\n",
    "import matplotlib.pyplot as plt"
   ]
  },
  {
   "cell_type": "code",
   "execution_count": null,
   "metadata": {},
   "outputs": [],
   "source": [
    "run_id = \"mnist20241122-191540\" # \"celeba20241113-154812\"\n",
    "epoch_num = \"final.pth\"\n",
    "\n",
    "device = torch.device(\"cpu\")\n",
    "if torch.cuda.is_available():\n",
    "    device = torch.device('cuda')\n",
    "elif torch.backends.mps.is_available():\n",
    "    device = torch.device('mps')\n",
    "else:\n",
    "    device = torch.device('cpu')\n",
    "\n",
    "\n",
    "checkpoint_path = f\"checkpoints/{run_id}/{epoch_num}\"\n",
    "device"
   ]
  },
  {
   "cell_type": "code",
   "execution_count": null,
   "metadata": {},
   "outputs": [],
   "source": [
    "if \"celeba\" in run_id:\n",
    "  model = IdemNetCeleba(3) # IdemNetMnist()\n",
    "else:\n",
    "  model = IdemNetMnist()\n",
    "\n",
    "state_dict = torch.load(checkpoint_path, weights_only=True, map_location=device)\n",
    "model.load_state_dict(state_dict)\n",
    "# model.eval()"
   ]
  },
  {
   "cell_type": "code",
   "execution_count": null,
   "metadata": {},
   "outputs": [],
   "source": [
    "if \"celeba\" in run_id:\n",
    "  train_loader, test_loader = load_CelebA(batch_size=9) #load_MNIST(batch_size=9)\n",
    "else:\n",
    "  train_loader, test_loader = load_MNIST(batch_size=9)\n"
   ]
  },
  {
   "cell_type": "code",
   "execution_count": null,
   "metadata": {},
   "outputs": [],
   "source": [
    "# Assumption: in the paper it says noise is n=(0, 0.15). We assume this refers to std**2 being 0.15\n",
    "def gaussian_noise(images, mean=0.0, std=0.15):\n",
    "  noise = torch.randn_like(images) * std + mean\n",
    "  noise_img = images + noise\n",
    "  return noise_img\n",
    "\n",
    "def rotation(images, angle=90):\n",
    "  return torch.stack([TF.rotate(img, angle) for img in images])\n",
    "\n",
    "# can only be aplied ot celeba\n",
    "def grayscale(images):\n",
    "  return images.mean(dim=1, keepdim=True).repeat(1,3,1,1)\n",
    "\n",
    "# can only be applied ot celeba\n",
    "def sketch(images):\n",
    "  kernel_size = 21\n",
    "  sigma = 0.3 * ((kernel_size - 1) * 0.5 - 1) + 0.8\n",
    "  gaussian_blur = GaussianBlur(kernel_size=kernel_size, sigma=sigma)\n",
    "\n",
    "  # TODO they mention something about adding 1, I dont understand why\n",
    "  gray_images = grayscale(images)\n",
    "\n",
    "  sketch = ((gray_images) / (gaussian_blur(gray_images) + 1e-10)) #- 1\n",
    "\n",
    "  return sketch\n",
    "\n"
   ]
  },
  {
   "cell_type": "code",
   "execution_count": null,
   "metadata": {},
   "outputs": [],
   "source": [
    "\n",
    "images, labels = next(iter(train_loader))\n"
   ]
  },
  {
   "cell_type": "code",
   "execution_count": null,
   "metadata": {},
   "outputs": [],
   "source": [
    "\n",
    "plot_generation(images, model, 5, 2)"
   ]
  }
 ],
 "metadata": {
  "kernelspec": {
   "display_name": "dl-idempotent",
   "language": "python",
   "name": "python3"
  },
  "language_info": {
   "codemirror_mode": {
    "name": "ipython",
    "version": 3
   },
   "file_extension": ".py",
   "mimetype": "text/x-python",
   "name": "python",
   "nbconvert_exporter": "python",
   "pygments_lexer": "ipython3",
   "version": "3.12.7"
  }
 },
 "nbformat": 4,
 "nbformat_minor": 2
}
