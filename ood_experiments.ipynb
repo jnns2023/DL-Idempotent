{
 "cells": [
  {
   "cell_type": "code",
   "execution_count": null,
   "metadata": {},
   "outputs": [],
   "source": [
    "import torch\n",
    "import numpy as np\n",
    "from idem_net_mnist import IdemNetMnist\n",
    "from idem_net_celeba import IdemNetCeleba\n",
    "from data_loader import load_MNIST, load_CelebA\n",
    "from plot_utils import *\n",
    "import matplotlib.pyplot as plt"
   ]
  },
  {
   "cell_type": "code",
   "execution_count": null,
   "metadata": {},
   "outputs": [],
   "source": [
    "run_id = \"mnist20241113-115000\"\n",
    "epoch_num = \"final.pth\"\n",
    "\n",
    "device = torch.device(\"cpu\")\n",
    "if torch.cuda.is_available():\n",
    "    device = torch.device('cuda')\n",
    "elif torch.backends.mps.is_available():\n",
    "    device = torch.device('mps')\n",
    "else:\n",
    "    device = torch.device('cpu')\n",
    "\n",
    "\n",
    "checkpoint_path = f\"checkpoints/{run_id}/{epoch_num}\"\n",
    "device"
   ]
  },
  {
   "cell_type": "code",
   "execution_count": null,
   "metadata": {},
   "outputs": [],
   "source": [
    "if \"celeba\" in run_id:\n",
    "  model = IdemNetCeleba(3) # IdemNetMnist()\n",
    "else:\n",
    "  model = IdemNetMnist()\n",
    "\n",
    "state_dict = torch.load(checkpoint_path, weights_only=True, map_location=device)\n",
    "model.load_state_dict(state_dict)"
   ]
  },
  {
   "cell_type": "code",
   "execution_count": null,
   "metadata": {},
   "outputs": [],
   "source": [
    "if \"celeba\" in run_id:\n",
    "  train_loader, test_loader = load_CelebA(batch_size=9) #load_MNIST(batch_size=9)\n",
    "else:\n",
    "  train_loader, test_loader = load_MNIST(batch_size=256)\n",
    "\n",
    "images, labels = next(iter(train_loader))\n",
    "\n",
    "plot_generation(torch.randn_like(images), model, 5, 2)"
   ]
  }
 ],
 "metadata": {
  "kernelspec": {
   "display_name": "dl-idempotent",
   "language": "python",
   "name": "python3"
  },
  "language_info": {
   "codemirror_mode": {
    "name": "ipython",
    "version": 3
   },
   "file_extension": ".py",
   "mimetype": "text/x-python",
   "name": "python",
   "nbconvert_exporter": "python",
   "pygments_lexer": "ipython3",
   "version": "3.12.7"
  }
 },
 "nbformat": 4,
 "nbformat_minor": 2
}
