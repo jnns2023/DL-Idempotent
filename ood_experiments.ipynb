{
 "cells": [
  {
   "cell_type": "markdown",
   "metadata": {},
   "source": [
    "# OOD-Experiments"
   ]
  },
  {
   "cell_type": "code",
   "execution_count": null,
   "metadata": {},
   "outputs": [],
   "source": [
    "import torch\n",
    "import numpy as np\n",
    "from idem_net_mnist import IdemNetMnist\n",
    "from data_loader import load_MNIST\n",
    "import matplotlib.pyplot as plt"
   ]
  },
  {
   "cell_type": "code",
   "execution_count": null,
   "metadata": {},
   "outputs": [],
   "source": [
    "\n",
    "run_id = \"mnist20241113-115000\"\n",
    "epoch_num = \"final.pth\"\n",
    "\n",
    "device = torch.device(\"cpu\")\n",
    "if torch.cuda.is_available():\n",
    "    device = torch.device('cuda')\n",
    "elif torch.backends.mps.is_available():\n",
    "    device = torch.device('mps')\n",
    "else:\n",
    "    device = torch.device('cpu')\n",
    "\n",
    "\n",
    "checkpoint_path = f\"checkpoints/{run_id}/{epoch_num}\"\n",
    "device"
   ]
  },
  {
   "cell_type": "code",
   "execution_count": null,
   "metadata": {},
   "outputs": [],
   "source": [
    "model = IdemNetMnist()\n",
    "\n",
    "state_dict = torch.load(checkpoint_path, weights_only=True, map_location=device)\n",
    "# state_dict = state_dict[\"model_state_dict\"]"
   ]
  },
  {
   "cell_type": "code",
   "execution_count": null,
   "metadata": {},
   "outputs": [],
   "source": [
    "model.load_state_dict(state_dict)\n",
    "model.eval()"
   ]
  },
  {
   "cell_type": "code",
   "execution_count": null,
   "metadata": {},
   "outputs": [],
   "source": [
    "def plot_generation(inputs, outputs, num_images=5):\n",
    "    \"\"\"\n",
    "    Plots input and output image pairs side by side.\n",
    "    \n",
    "    Parameters:\n",
    "    - inputs: Batch of input images, expected shape (batch_size, height, width).\n",
    "    - outputs: Batch of output images, expected shape (num_applications, batch_size, height, width).\n",
    "    - num_images: Number of image pairs to display (default is 5).\n",
    "    \"\"\"\n",
    "    # Limit the number of images to the smaller of num_images or batch size\n",
    "    num_images = min(num_images, len(inputs), len(outputs))\n",
    "    \n",
    "    plt.figure(figsize=(8, num_images * 2))\n",
    "    for i in range(num_images):\n",
    "        # Plot input image\n",
    "        plt.subplot(num_images, 2, 2 * i + 1)\n",
    "        plt.imshow(inputs[i].squeeze(), cmap='gray')\n",
    "        plt.title(\"Input\")\n",
    "        plt.axis('off')\n",
    "        \n",
    "        # Plot output image\n",
    "        plt.subplot(num_images, 2, 2 * i + 2)\n",
    "        plt.imshow(outputs[i].squeeze().detach().numpy(), cmap='gray')\n",
    "        plt.title(\"Output\")\n",
    "        plt.axis('off')\n",
    "    \n",
    "    plt.tight_layout()\n",
    "    plt.show()"
   ]
  },
  {
   "cell_type": "code",
   "execution_count": null,
   "metadata": {},
   "outputs": [],
   "source": [
    "train_loader, test_loader = load_MNIST(batch_size=256)\n",
    "images, labels = next(iter(train_loader))\n",
    "output = model.forward(images)\n",
    "\n",
    "plot_generation(images, output)"
   ]
  }
 ],
 "metadata": {
  "kernelspec": {
   "display_name": "dl-idempotent",
   "language": "python",
   "name": "python3"
  },
  "language_info": {
   "codemirror_mode": {
    "name": "ipython",
    "version": 3
   },
   "file_extension": ".py",
   "mimetype": "text/x-python",
   "name": "python",
   "nbconvert_exporter": "python",
   "pygments_lexer": "ipython3",
   "version": "3.12.7"
  }
 },
 "nbformat": 4,
 "nbformat_minor": 2
}
