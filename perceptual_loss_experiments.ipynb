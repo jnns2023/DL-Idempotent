{
 "cells": [
  {
   "cell_type": "code",
   "execution_count": null,
   "metadata": {},
   "outputs": [],
   "source": [
    "import torch\n",
    "from matplotlib import pyplot as plt\n",
    "\n",
    "from perceptual_loss import PerceptualLoss\n",
    "from idem_net_celeba import IdemNetCeleba\n",
    "from data_loader import load_CelebA"
   ]
  },
  {
   "cell_type": "code",
   "execution_count": null,
   "metadata": {},
   "outputs": [],
   "source": [
    "device = torch.device(\"cpu\")\n",
    "if torch.cuda.is_available():\n",
    "  device = torch.device('cuda')\n",
    "elif torch.backends.mps.is_available():\n",
    "  device = torch.device('mps')\n",
    "else:\n",
    "  device = torch.device('cpu')\n",
    "\n",
    "dataloader, _ = load_CelebA()"
   ]
  },
  {
   "cell_type": "code",
   "execution_count": null,
   "metadata": {},
   "outputs": [],
   "source": [
    "run_id = \"celeba20241201-151237\"\n",
    "epoch_num = \"_final.pth\"\n",
    "\n",
    "checkpoint_path = f\"checkpoints/{run_id}/{epoch_num}\"\n",
    "\n",
    "if \"celeba\" in run_id:\n",
    "  model = IdemNetCeleba(3) # IdemNetMnist()\n",
    "\n",
    "state_dict = torch.load(checkpoint_path, weights_only=True, map_location=device)\n",
    "model.load_state_dict(state_dict)"
   ]
  },
  {
   "cell_type": "code",
   "execution_count": null,
   "metadata": {},
   "outputs": [],
   "source": [
    "test_img, _ = next(iter(dataloader))\n",
    "\n",
    "test_noise = torch.randn_like(test_img)\n",
    "\n",
    "with torch.no_grad():\n",
    "  model_img = model(test_img)\n",
    "  model_noise = model(test_noise)\n",
    "plt.imshow(model_img.squeeze().permute(1,2,0))\n",
    "plt.imshow(model_noise.squeeze().permute(1,2,0))\n",
    "plt.show()"
   ]
  },
  {
   "cell_type": "code",
   "execution_count": null,
   "metadata": {},
   "outputs": [],
   "source": [
    "imnet_model = PerceptualLoss(device=device)\n",
    "\n",
    "celeba_model = PerceptualLoss('vgg16_celeba', layers=[3], device=device)\n",
    "\n",
    "squeeze_imnet_model = PerceptualLoss('squeeze', device=device)\n",
    "\n",
    "print(squeeze_imnet_model)"
   ]
  },
  {
   "cell_type": "code",
   "execution_count": null,
   "metadata": {},
   "outputs": [],
   "source": [
    "\n",
    "print(\"imnet noise img \", imnet_model(test_noise, test_img))\n",
    "\n",
    "print(\"celeba noise img\", celeba_model(test_noise, test_img))\n",
    "\n",
    "print(\"squeeze noise img\", squeeze_imnet_model(test_noise, test_img))\n",
    "\n",
    "print(\"imnet idem(img) img\", imnet_model(model_img, test_img))\n",
    "\n",
    "print(\"celeba idem(img) img\", celeba_model(model_img, test_img))\n",
    "\n",
    "print(\"squeeze noise img\", squeeze_imnet_model(model_img, test_img))\n",
    "\n",
    "# print(\"imnet idem(noise) img\", imnet_model(model_noise, test_img, 1))\n",
    "\n",
    "# print(\"celeba idem(noise) img\", celeba_model(model_noise, test_img, 1))"
   ]
  }
 ],
 "metadata": {
  "kernelspec": {
   "display_name": "dl-idempotent",
   "language": "python",
   "name": "python3"
  },
  "language_info": {
   "codemirror_mode": {
    "name": "ipython",
    "version": 3
   },
   "file_extension": ".py",
   "mimetype": "text/x-python",
   "name": "python",
   "nbconvert_exporter": "python",
   "pygments_lexer": "ipython3",
   "version": "3.12.7"
  }
 },
 "nbformat": 4,
 "nbformat_minor": 2
}
