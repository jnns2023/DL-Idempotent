{
 "cells": [
  {
   "cell_type": "code",
   "execution_count": 75,
   "metadata": {},
   "outputs": [],
   "source": [
    "import torch\n",
    "import numpy as np\n",
    "from idem_net_mnist import IdemNetMnist\n",
    "from data_loader import load_MNIST\n",
    "import matplotlib.pyplot as plt"
   ]
  },
  {
   "cell_type": "code",
   "execution_count": 76,
   "metadata": {},
   "outputs": [
    {
     "data": {
      "text/plain": [
       "device(type='mps')"
      ]
     },
     "execution_count": 76,
     "metadata": {},
     "output_type": "execute_result"
    }
   ],
   "source": [
    "run_id = \"mnist20241121-142447\"\n",
    "epoch_num = \"final.pth\"\n",
    "\n",
    "device = torch.device(\"cpu\")\n",
    "if torch.cuda.is_available():\n",
    "    device = torch.device('cuda')\n",
    "elif torch.backends.mps.is_available():\n",
    "    device = torch.device('mps')\n",
    "else:\n",
    "    device = torch.device('cpu')\n",
    "\n",
    "\n",
    "checkpoint_path = f\"checkpoints/{run_id}/{epoch_num}\"\n",
    "device"
   ]
  },
  {
   "cell_type": "code",
   "execution_count": 77,
   "metadata": {},
   "outputs": [],
   "source": [
    "model = IdemNetMnist()\n",
    "\n",
    "state_dict = torch.load(checkpoint_path, weights_only=True, map_location=device)\n",
    "# state_dict = state_dict[\"model_state_dict\"]"
   ]
  },
  {
   "cell_type": "code",
   "execution_count": 78,
   "metadata": {},
   "outputs": [
    {
     "data": {
      "text/plain": [
       "<All keys matched successfully>"
      ]
     },
     "execution_count": 78,
     "metadata": {},
     "output_type": "execute_result"
    }
   ],
   "source": [
    "model.load_state_dict(state_dict)\n",
    "#model.eval()"
   ]
  },
  {
   "cell_type": "code",
   "execution_count": 79,
   "metadata": {},
   "outputs": [],
   "source": [
    "def plot_generation(inputs, outputs, outputs2, num_images=5, show=False):\n",
    "    \"\"\"\n",
    "    Plots input and output image pairs side by side.\n",
    "    \n",
    "    Parameters:\n",
    "    - inputs: Batch of input images, expected shape (batch_size, height, width).\n",
    "    - outputs: Batch of output images, expected shape (num_applications, batch_size, height, width).\n",
    "    - num_images: Number of image pairs to display (default is 5).\n",
    "    \"\"\"\n",
    "    # Limit the number of images to the smaller of num_images or batch size\n",
    "    num_images = min(num_images, len(inputs), len(outputs))\n",
    "    \n",
    "    plt.figure(figsize=(8, num_images * 3))\n",
    "    for i in range(num_images):\n",
    "        # Plot input image\n",
    "        plt.subplot(num_images, 3, 2 * i + 1)\n",
    "        plt.imshow(inputs[i].squeeze().detach().numpy(), cmap='gray')\n",
    "        plt.title(\"Input\")\n",
    "        plt.axis('off')\n",
    "        \n",
    "        # Plot output image\n",
    "        plt.subplot(num_images, 3, 2 * i + 2)\n",
    "        plt.imshow(outputs[i].squeeze().detach().numpy(), cmap='gray')\n",
    "        plt.title(\"Output\")\n",
    "        plt.axis('off')\n",
    "\n",
    "        # Plot output image\n",
    "        plt.subplot(num_images, 3, 2 * i + 3)\n",
    "        plt.imshow(outputs2[i].squeeze().detach().numpy(), cmap='gray')\n",
    "        plt.title(\"Output\")\n",
    "        plt.axis('off')\n",
    "\n",
    "    plt.tight_layout()\n",
    "    if show:\n",
    "        plt.show()\n",
    "\n"
   ]
  },
  {
   "cell_type": "code",
   "execution_count": 80,
   "metadata": {},
   "outputs": [],
   "source": [
    "# Generate random images based on noise with the same shape as the input images\n",
    "num_noise = 2\n",
    "noise = torch.randn(num_noise, 1, 28, 28)\n",
    "\n",
    "# Do interpolation between the first two images\n",
    "num_interpolations = 30\n",
    "interpolations = torch.zeros(num_interpolations, 1, 1, 28, 28)\n",
    "outputs = torch.zeros(num_interpolations, 1, 1, 28, 28)\n",
    "outputs2 = torch.zeros(num_interpolations, 1, 1, 28, 28)\n",
    "for i in range(num_interpolations):\n",
    "    alpha = i / (num_interpolations - 1)\n",
    "    interpolations[i] = alpha * noise[0] + (1 - alpha) * noise[1]\n",
    "\n",
    "\n",
    "\n"
   ]
  },
  {
   "cell_type": "code",
   "execution_count": 81,
   "metadata": {},
   "outputs": [],
   "source": [
    "import os\n",
    "\n",
    "output_dir = \"output_images_latentspace\"\n",
    "os.makedirs(output_dir, exist_ok=True)  # Create the directory if it doesn't exist\n",
    "\n",
    "# output for interpolations\n",
    "for i in range(num_interpolations):\n",
    "    outputs[i] = model(interpolations[i])\n",
    "    outputs2[i] = model(outputs[i])\n",
    "    plot_generation(interpolations[i], outputs[i], outputs2[i], num_images=1)\n",
    "    # Save plot\n",
    "    plt.savefig(os.path.join(output_dir, f\"interpolation_{i}.png\"))\n",
    "    plt.close()\n"
   ]
  }
 ],
 "metadata": {
  "kernelspec": {
   "display_name": "DL-Idempotant",
   "language": "python",
   "name": "python3"
  },
  "language_info": {
   "codemirror_mode": {
    "name": "ipython",
    "version": 3
   },
   "file_extension": ".py",
   "mimetype": "text/x-python",
   "name": "python",
   "nbconvert_exporter": "python",
   "pygments_lexer": "ipython3",
   "version": "3.12.7"
  }
 },
 "nbformat": 4,
 "nbformat_minor": 2
}
